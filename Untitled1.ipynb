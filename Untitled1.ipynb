{
 "cells": [
  {
   "cell_type": "code",
   "execution_count": 2,
   "id": "6d68e1b4-f684-4130-97e1-05b94fdbc6d3",
   "metadata": {},
   "outputs": [],
   "source": [
    "import pandas as pd\n",
    "import numpy as np"
   ]
  },
  {
   "cell_type": "code",
   "execution_count": 24,
   "id": "8a96d675-34e7-464c-9ab5-c0e8ba266005",
   "metadata": {},
   "outputs": [
    {
     "name": "stdout",
     "output_type": "stream",
     "text": [
      "         Length    Weight\n",
      "0      1.486782  1.700729\n",
      "1     -0.916632 -0.892264\n",
      "2     -0.918001 -0.875905\n",
      "3      0.730426  0.729281\n",
      "4     -0.882817 -0.903601\n",
      "...         ...       ...\n",
      "99995 -0.946714 -0.903656\n",
      "99996  0.757990  0.210116\n",
      "99997 -0.809214 -0.889971\n",
      "99998  0.872280  0.236213\n",
      "99999  1.180343  1.024661\n",
      "\n",
      "[100000 rows x 2 columns]\n"
     ]
    }
   ],
   "source": [
    "fish_data = pd.read_csv('~/data/fish_test_data_100k.csv')\n",
    "# 표준점수(standard score)\n",
    "# 표준점수 = (데이터 - 평균) / 표준편차\n",
    "mean = np.mean(fish_data.iloc[:,[0,1]], axis=0)\n",
    "std = np.std(fish_data.iloc[:,[0,1]], axis=0)\n",
    "train_scaled = (fish_data.iloc[:,[0,1]] - mean) / std\n",
    "\n",
    "print(train_scaled)\n",
    "df.to_parquet(\"~/data/fish_test_data_100k.parquet\")"
   ]
  },
  {
   "cell_type": "code",
   "execution_count": null,
   "id": "921d7a13-3d4b-47e3-97da-b878d4164f57",
   "metadata": {},
   "outputs": [],
   "source": []
  }
 ],
 "metadata": {
  "kernelspec": {
   "display_name": "Python 3 (ipykernel)",
   "language": "python",
   "name": "python3"
  },
  "language_info": {
   "codemirror_mode": {
    "name": "ipython",
    "version": 3
   },
   "file_extension": ".py",
   "mimetype": "text/x-python",
   "name": "python",
   "nbconvert_exporter": "python",
   "pygments_lexer": "ipython3",
   "version": "3.8.19"
  }
 },
 "nbformat": 4,
 "nbformat_minor": 5
}
