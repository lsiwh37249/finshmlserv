{
 "cells": [
  {
   "cell_type": "code",
   "execution_count": 2,
   "id": "6d68e1b4-f684-4130-97e1-05b94fdbc6d3",
   "metadata": {},
   "outputs": [],
   "source": [
    "import pandas as pd\n",
    "import numpy as np"
   ]
  },
  {
   "cell_type": "code",
   "execution_count": 24,
   "id": "8a96d675-34e7-464c-9ab5-c0e8ba266005",
   "metadata": {},
   "outputs": [
    {
     "name": "stdout",
     "output_type": "stream",
     "text": [
      "         Length    Weight\n",
      "0      1.486782  1.700729\n",
      "1     -0.916632 -0.892264\n",
      "2     -0.918001 -0.875905\n",
      "3      0.730426  0.729281\n",
      "4     -0.882817 -0.903601\n",
      "...         ...       ...\n",
      "99995 -0.946714 -0.903656\n",
      "99996  0.757990  0.210116\n",
      "99997 -0.809214 -0.889971\n",
      "99998  0.872280  0.236213\n",
      "99999  1.180343  1.024661\n",
      "\n",
      "[100000 rows x 2 columns]\n"
     ]
    }
   ],
   "source": [
    "fish_data = pd.read_csv('~/data/fish_test_data_100k.csv')\n",
    "# 표준점수(standard score)\n",
    "# 표준점수 = (데이터 - 평균) / 표준편차\n",
    "mean = np.mean(fish_data.iloc[:,[0,1]], axis=0)\n",
    "std = np.std(fish_data.iloc[:,[0,1]], axis=0)\n",
    "train_scaled = (fish_data.iloc[:,[0,1]] - mean) / std\n",
    "\n",
    "print(train_scaled)\n",
    "df.to_parquet(\"~/data/fish_test_data_100k.parquet\")"
   ]
  },
  {
   "cell_type": "code",
   "execution_count": 10,
   "id": "921d7a13-3d4b-47e3-97da-b878d4164f57",
   "metadata": {},
   "outputs": [
    {
     "data": {
      "text/html": [
       "<div>\n",
       "<style scoped>\n",
       "    .dataframe tbody tr th:only-of-type {\n",
       "        vertical-align: middle;\n",
       "    }\n",
       "\n",
       "    .dataframe tbody tr th {\n",
       "        vertical-align: top;\n",
       "    }\n",
       "\n",
       "    .dataframe thead th {\n",
       "        text-align: right;\n",
       "    }\n",
       "</style>\n",
       "<table border=\"1\" class=\"dataframe\">\n",
       "  <thead>\n",
       "    <tr style=\"text-align: right;\">\n",
       "      <th></th>\n",
       "      <th>Length</th>\n",
       "      <th>Weight</th>\n",
       "      <th>result</th>\n",
       "    </tr>\n",
       "  </thead>\n",
       "  <tbody>\n",
       "    <tr>\n",
       "      <th>0</th>\n",
       "      <td>1.486782</td>\n",
       "      <td>1.700729</td>\n",
       "      <td>도미</td>\n",
       "    </tr>\n",
       "    <tr>\n",
       "      <th>1</th>\n",
       "      <td>-0.916632</td>\n",
       "      <td>-0.892264</td>\n",
       "      <td>도미</td>\n",
       "    </tr>\n",
       "    <tr>\n",
       "      <th>2</th>\n",
       "      <td>-0.918001</td>\n",
       "      <td>-0.875905</td>\n",
       "      <td>도미</td>\n",
       "    </tr>\n",
       "    <tr>\n",
       "      <th>3</th>\n",
       "      <td>0.730426</td>\n",
       "      <td>0.729281</td>\n",
       "      <td>도미</td>\n",
       "    </tr>\n",
       "    <tr>\n",
       "      <th>4</th>\n",
       "      <td>-0.882817</td>\n",
       "      <td>-0.903601</td>\n",
       "      <td>도미</td>\n",
       "    </tr>\n",
       "    <tr>\n",
       "      <th>...</th>\n",
       "      <td>...</td>\n",
       "      <td>...</td>\n",
       "      <td>...</td>\n",
       "    </tr>\n",
       "    <tr>\n",
       "      <th>99995</th>\n",
       "      <td>-0.946714</td>\n",
       "      <td>-0.903656</td>\n",
       "      <td>도미</td>\n",
       "    </tr>\n",
       "    <tr>\n",
       "      <th>99996</th>\n",
       "      <td>0.757990</td>\n",
       "      <td>0.210116</td>\n",
       "      <td>도미</td>\n",
       "    </tr>\n",
       "    <tr>\n",
       "      <th>99997</th>\n",
       "      <td>-0.809214</td>\n",
       "      <td>-0.889971</td>\n",
       "      <td>도미</td>\n",
       "    </tr>\n",
       "    <tr>\n",
       "      <th>99998</th>\n",
       "      <td>0.872280</td>\n",
       "      <td>0.236213</td>\n",
       "      <td>도미</td>\n",
       "    </tr>\n",
       "    <tr>\n",
       "      <th>99999</th>\n",
       "      <td>1.180343</td>\n",
       "      <td>1.024661</td>\n",
       "      <td>도미</td>\n",
       "    </tr>\n",
       "  </tbody>\n",
       "</table>\n",
       "<p>100000 rows × 3 columns</p>\n",
       "</div>"
      ],
      "text/plain": [
       "         Length    Weight result\n",
       "0      1.486782  1.700729     도미\n",
       "1     -0.916632 -0.892264     도미\n",
       "2     -0.918001 -0.875905     도미\n",
       "3      0.730426  0.729281     도미\n",
       "4     -0.882817 -0.903601     도미\n",
       "...         ...       ...    ...\n",
       "99995 -0.946714 -0.903656     도미\n",
       "99996  0.757990  0.210116     도미\n",
       "99997 -0.809214 -0.889971     도미\n",
       "99998  0.872280  0.236213     도미\n",
       "99999  1.180343  1.024661     도미\n",
       "\n",
       "[100000 rows x 3 columns]"
      ]
     },
     "execution_count": 10,
     "metadata": {},
     "output_type": "execute_result"
    }
   ],
   "source": [
    "data = pd.read_parquet(\"/home/kim1/data/fish_parquet/fish_predict_parquet49\")\n",
    "data"
   ]
  },
  {
   "cell_type": "code",
   "execution_count": null,
   "id": "8f5ecbd4-bb41-4096-afc4-265403ece983",
   "metadata": {},
   "outputs": [],
   "source": []
  }
 ],
 "metadata": {
  "kernelspec": {
   "display_name": "Python 3 (ipykernel)",
   "language": "python",
   "name": "python3"
  },
  "language_info": {
   "codemirror_mode": {
    "name": "ipython",
    "version": 3
   },
   "file_extension": ".py",
   "mimetype": "text/x-python",
   "name": "python",
   "nbconvert_exporter": "python",
   "pygments_lexer": "ipython3",
   "version": "3.8.19"
  }
 },
 "nbformat": 4,
 "nbformat_minor": 5
}
