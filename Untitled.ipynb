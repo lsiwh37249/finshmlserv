{
 "cells": [
  {
   "cell_type": "code",
   "execution_count": null,
   "id": "92bc00bd-4cb2-4af5-b627-12e3f0002c0e",
   "metadata": {},
   "outputs": [],
   "source": [
    "import requests\n",
    "import pandas as pd"
   ]
  },
  {
   "cell_type": "code",
   "execution_count": null,
   "id": "110cd7d5-31f8-4656-b3a2-4763f60ece36",
   "metadata": {},
   "outputs": [],
   "source": [
    "def fish_request(length, weight):\n",
    "    headers = {\n",
    "        'accept': 'application/json',\n",
    "    }\n",
    "\n",
    "    params = {\n",
    "        'length': length,\n",
    "        'weight': weight,\n",
    "    }\n",
    "    print(params)\n",
    "\n",
    "    response = requests.get('http://localhost:8765/fish', params=params, headers=headers)\n",
    "    j = response.json()\n",
    "    print(j)\n",
    "    r = j.get(\"prediction\")\n",
    "    print(r)\n",
    "    if r == \"빙어\":\n",
    "        return 1\n",
    "    else:\n",
    "        return 0"
   ]
  },
  {
   "cell_type": "code",
   "execution_count": null,
   "id": "9a5df711-4a1a-460c-bec1-36441bd2803b",
   "metadata": {},
   "outputs": [],
   "source": [
    "def predict():\n",
    "    df = pd.read_parquet(\"~/data/fish_test_data_100k.parquet\")\n",
    "    #with open(\"/home/kim1/code/finshmlserv/src/finshmlserv/model.pkl\", \"rb\" ) as f:\n",
    "    #    fish_model = pickle.load(f)\n",
    "\n",
    "    df_1 = df.iloc[:10,[0,1]]\n",
    "    #predictions = fish_model.predict(df_1)\n",
    "    \n",
    "    #predictions = fish_request(df_1.iloc[:, 0], df_1.iloc[:, 1])\n",
    "    #df_1['result'] = predictions\n",
    "    \n",
    "    df_1['result'] = df_1.apply(lambda row: fish_request(row.iloc[0], row.iloc[1]), axis=1)\n",
    "    print(df_1['result'])\n",
    "    parquet_path =\"~/data/fish_parquet/fish_predict_parquet\"\n",
    "    df_1.to_parquet(parquet_path)"
   ]
  },
  {
   "cell_type": "code",
   "execution_count": null,
   "id": "e204ae80-86b8-4567-b78a-d236eaddeb81",
   "metadata": {},
   "outputs": [],
   "source": [
    "print(predict())"
   ]
  },
  {
   "cell_type": "code",
   "execution_count": 35,
   "id": "441678ba-e88f-4621-8d61-792dfed787cb",
   "metadata": {},
   "outputs": [
    {
     "name": "stdout",
     "output_type": "stream",
     "text": [
      "            Length      Weight  result\n",
      "0        39.049430  898.511670       1\n",
      "1        12.776059   13.078934       0\n",
      "2        12.761093   18.665042       0\n",
      "3        30.781178  566.790054       1\n",
      "4        13.145714    9.207782       0\n",
      "...            ...         ...     ...\n",
      "9999995  34.636377  554.759082       1\n",
      "9999996  13.172821   17.191087       0\n",
      "9999997  12.877214   15.103945       0\n",
      "9999998  39.071152  379.180396       1\n",
      "9999999  32.942495  732.028292       1\n",
      "\n",
      "[10000000 rows x 3 columns]\n"
     ]
    }
   ],
   "source": [
    "df = pd.read_parquet(\"~/data/fish_parquet/fish_predict_parquet\")\n",
    "print(df)"
   ]
  },
  {
   "cell_type": "code",
   "execution_count": null,
   "id": "262f45b7-80d1-49fa-b747-39ec6b2dcd08",
   "metadata": {},
   "outputs": [],
   "source": []
  }
 ],
 "metadata": {
  "kernelspec": {
   "display_name": "Python 3 (ipykernel)",
   "language": "python",
   "name": "python3"
  },
  "language_info": {
   "codemirror_mode": {
    "name": "ipython",
    "version": 3
   },
   "file_extension": ".py",
   "mimetype": "text/x-python",
   "name": "python",
   "nbconvert_exporter": "python",
   "pygments_lexer": "ipython3",
   "version": "3.8.19"
  }
 },
 "nbformat": 4,
 "nbformat_minor": 5
}
